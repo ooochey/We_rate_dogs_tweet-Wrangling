{
 "cells": [
  {
   "cell_type": "markdown",
   "metadata": {},
   "source": [
    "## Reporting: wragle_report"
   ]
  },
  {
   "cell_type": "markdown",
   "metadata": {},
   "source": [
    "### Data Gathering "
   ]
  },
  {
   "cell_type": "markdown",
   "metadata": {},
   "source": [
    "The wrangling process involved gathering data from three sources; \n",
    "One of the data source named Twitter_archive_enhanced was downloaded directly as a csv file, the second sourced data named image_prediction was downloaded programmatically as a tsv file from a url while additional information such as retweet count and favorite count were extracted from tweet_json text file and was named tweet count."
   ]
  },
  {
   "cell_type": "markdown",
   "metadata": {},
   "source": [
    "### Assessment"
   ]
  },
  {
   "cell_type": "markdown",
   "metadata": {},
   "source": [
    "All the gathered data were assessed both visually using Microsoft excel for the csv file and Sublime for the text files and programmatically for quality and as well as tidiness issues. 8 quality and 2 tidiness issues were identified during assessment. Some of these issues includes the following;\n",
    "#### Quality issues\n",
    "1. The rows in the twitter_archive_enhanced table includes original tweets and retweets and replies but only original tweets are required\n",
    "\n",
    "2. Missing data in the twitter_archive_enhanced table for these variables in_reply_status_id, in_reply_to_users, retweeted_status_user_id, retweeted_status_timestamp, expanded_urls\n",
    "\n",
    "3. Variable name tweet_id in twitter_archive_enhanced table is integer not string\n",
    "\n",
    "4. There are rows of data with incorrect rating in twitter_archive_enhanced table\n",
    "\n",
    "5. timestamp variable data type in twitter_archive_enhanced table is object instead of datetime\n",
    "\n",
    "6. Nulls represented as None in name, doggo, floofer, pupper, puppo columns in the twitter_archive_enhanced table\n",
    "\n",
    "7. tweet_id in image_prediction table is integer instead of object\n",
    "\n",
    "8. the variable name id in tweet_count table is inconsistent with the variables names in twitter_archive_enhanced table and image_prediction table where it is tweet_id\n",
    "\n",
    "#### Tidiness issues\n",
    "1. Dog stage such as doggo, floofer, pupper, puppo in twitter_archive_enhanced table should make up one variable\n",
    "\n",
    "2. The true prediction of dog breeds in image_prediction table should be collapsed into one column or variable and irelevant columns dropped"
   ]
  },
  {
   "cell_type": "markdown",
   "metadata": {},
   "source": [
    "### Data Cleaning"
   ]
  },
  {
   "cell_type": "markdown",
   "metadata": {},
   "source": [
    "Copies of the gathered data were created and used for the cleaning of the issues identified in the asssessment stage of the wrangling process. The issue, define, code, test framework which involved summarising the identified issues to address, defining how the issues will be addressed, write and run the appropriate codes needed to adrdress the issues and test if the identifies issues have been resolved. This process was repeated for each of the identified issues.\n",
    "The cleaned data from the various sources were merged and stored as a master csv file."
   ]
  }
 ],
 "metadata": {
  "kernelspec": {
   "display_name": "Python 3 (ipykernel)",
   "language": "python",
   "name": "python3"
  },
  "language_info": {
   "codemirror_mode": {
    "name": "ipython",
    "version": 3
   },
   "file_extension": ".py",
   "mimetype": "text/x-python",
   "name": "python",
   "nbconvert_exporter": "python",
   "pygments_lexer": "ipython3",
   "version": "3.9.13"
  }
 },
 "nbformat": 4,
 "nbformat_minor": 2
}
